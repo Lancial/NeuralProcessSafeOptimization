{
 "cells": [
  {
   "cell_type": "code",
   "execution_count": 2,
   "metadata": {},
   "outputs": [
    {
     "name": "stdout",
     "output_type": "stream",
     "text": [
      "The autoreload extension is already loaded. To reload it, use:\n",
      "  %reload_ext autoreload\n"
     ]
    }
   ],
   "source": [
    "%load_ext autoreload\n",
    "%autoreload 2\n",
    "import numpy as np\n",
    "import matplotlib.pyplot as plt\n",
    "import torch\n",
    "%matplotlib inline\n",
    "from neural_process import NeuralProcess\n",
    "\n",
    "from load_data import *\n",
    "from utils import *\n",
    "from vae import *\n",
    "from torch.utils.data import Dataset, DataLoader\n",
    "import numpy as np\n",
    "import random\n",
    "# from training import *\n",
    "\n",
    "device = torch.device(\"cuda\" if torch.cuda.is_available() else \"cpu\")"
   ]
  },
  {
   "cell_type": "code",
   "execution_count": 54,
   "metadata": {},
   "outputs": [],
   "source": [
    "movie_features = load__movies_info()\n",
    "user_features = load_users_info()\n",
    "user_movie_ratings = load_user_movie_rating()\n",
    "avg_score = user_movie_ratings.groupby(\"movie id\").mean()['rating'].sort_values(ascending=False)\n",
    "movie_features=pd.merge(movie_features,avg_score,on=\"movie id\")"
   ]
  },
  {
   "cell_type": "code",
   "execution_count": 55,
   "metadata": {},
   "outputs": [],
   "source": [
    "movies = postprocess_movie(movie_features)\n",
    "users  = postprocess_user(user_features)"
   ]
  },
  {
   "cell_type": "code",
   "execution_count": 56,
   "metadata": {},
   "outputs": [],
   "source": [
    "U_Mat = utility_matrix(user_movie_ratings)"
   ]
  },
  {
   "cell_type": "code",
   "execution_count": 57,
   "metadata": {},
   "outputs": [],
   "source": [
    "class UserMovieTrainDataset(Dataset):\n",
    "    def __init__(self, U_matrix, users, movies):\n",
    "        self.U_matrix = np.nan_to_num(U_matrix.to_numpy())\n",
    "        self.users = users\n",
    "        self.movies = movies\n",
    "        \n",
    "    def __len__(self):\n",
    "        return self.U_matrix.shape[0] - 50\n",
    "    \n",
    "    def __getitem__(self, idx):\n",
    "        \n",
    "        user_ratings = self.U_matrix[idx]\n",
    "        user_ratings_valid_idx = np.nonzero(user_ratings)\n",
    "        rated_movies = movies[user_ratings_valid_idx] # n x 20\n",
    "        \n",
    "        user = self.users[idx]\n",
    "        user = np.repeat(user[np.newaxis,...], rated_movies.shape[0], axis=0) # n x 3\n",
    "        \n",
    "        features = np.concatenate([rated_movies, user], axis=1)\n",
    "        ratings = user_ratings[user_ratings_valid_idx].reshape(-1, 1)\n",
    "        \n",
    "        return torch.from_numpy(features).float(), torch.from_numpy(ratings).float()\n",
    "\n",
    "class UserMovieTestDataset(Dataset):\n",
    "    def __init__(self, U_matrix, users, movies):\n",
    "        self.U_matrix = np.nan_to_num(U_matrix.to_numpy())\n",
    "        self.users = users\n",
    "        self.movies = movies\n",
    "        \n",
    "    def __len__(self):\n",
    "        return 50\n",
    "    \n",
    "    def __getitem__(self, idx):\n",
    "        \n",
    "        user_ratings = self.U_matrix[-idx]\n",
    "        user_ratings_valid_idx = np.nonzero(user_ratings)\n",
    "        rated_movies = movies[user_ratings_valid_idx] # n x 20\n",
    "        \n",
    "        user = self.users[idx]\n",
    "        user = np.repeat(user[np.newaxis,...], rated_movies.shape[0], axis=0) # n x 3\n",
    "        \n",
    "        features = np.concatenate([rated_movies, user], axis=1)\n",
    "        ratings = user_ratings[user_ratings_valid_idx].reshape(-1, 1)\n",
    "        \n",
    "        return torch.from_numpy(features).float(), torch.from_numpy(ratings).float()"
   ]
  },
  {
   "cell_type": "code",
   "execution_count": 58,
   "metadata": {},
   "outputs": [
    {
     "data": {
      "text/plain": [
       "893"
      ]
     },
     "execution_count": 58,
     "metadata": {},
     "output_type": "execute_result"
    }
   ],
   "source": [
    "training_dataset = UserMovieTrainDataset(U_Mat, users, movies)\n",
    "testing_dataset = UserMovieTestDataset(U_Mat, users, movies)\n",
    "len(dataset)"
   ]
  },
  {
   "cell_type": "code",
   "execution_count": 93,
   "metadata": {},
   "outputs": [],
   "source": [
    "x_dim = 23\n",
    "y_dim = 1\n",
    "r_dim = 100  # Dimension of representation of context points\n",
    "z_dim = 100  # Dimension of sampled latent variable\n",
    "h_dim = 100  # Dimension of hidden layers in encoder and decoder\n",
    "\n",
    "neuralprocess = NeuralProcess(x_dim, y_dim, r_dim, z_dim, h_dim)"
   ]
  },
  {
   "cell_type": "code",
   "execution_count": 94,
   "metadata": {},
   "outputs": [
    {
     "name": "stdout",
     "output_type": "stream",
     "text": [
      "iteration 200, loss 72.613\n",
      "iteration 400, loss 55.670\n",
      "iteration 600, loss 62.999\n",
      "iteration 800, loss 44.281\n",
      "Epoch: 0, Avg_loss: 50.35495031427296\n",
      "iteration 1000, loss 37.780\n",
      "iteration 1200, loss 43.639\n",
      "iteration 1400, loss 52.746\n",
      "iteration 1600, loss 45.402\n",
      "Epoch: 1, Avg_loss: 43.60615925505874\n",
      "iteration 1800, loss 49.395\n",
      "iteration 2000, loss 35.150\n",
      "iteration 2200, loss 43.976\n",
      "iteration 2400, loss 45.242\n",
      "iteration 2600, loss 37.641\n",
      "Epoch: 2, Avg_loss: 42.25991039126611\n",
      "iteration 2800, loss 42.284\n",
      "iteration 3000, loss 43.995\n",
      "iteration 3200, loss 47.573\n",
      "iteration 3400, loss 42.703\n",
      "Epoch: 3, Avg_loss: 42.19203075823298\n",
      "iteration 3600, loss 38.888\n",
      "iteration 3800, loss 45.622\n",
      "iteration 4000, loss 42.864\n",
      "iteration 4200, loss 38.242\n",
      "iteration 4400, loss 51.764\n",
      "Epoch: 4, Avg_loss: 41.72935864746504\n",
      "iteration 4600, loss 39.167\n",
      "iteration 4800, loss 53.871\n",
      "iteration 5000, loss 35.988\n",
      "iteration 5200, loss 40.180\n",
      "Epoch: 5, Avg_loss: 41.794605951426675\n",
      "iteration 5400, loss 26.185\n",
      "iteration 5600, loss 41.500\n",
      "iteration 5800, loss 41.741\n",
      "iteration 6000, loss 40.440\n",
      "iteration 6200, loss 38.274\n",
      "Epoch: 6, Avg_loss: 41.25870079476249\n",
      "iteration 6400, loss 31.646\n",
      "iteration 6600, loss 41.778\n",
      "iteration 6800, loss 42.920\n",
      "iteration 7000, loss 28.705\n",
      "Epoch: 7, Avg_loss: 40.98352080470103\n",
      "iteration 7200, loss 44.879\n",
      "iteration 7400, loss 42.978\n",
      "iteration 7600, loss 47.711\n",
      "iteration 7800, loss 40.604\n",
      "iteration 8000, loss 36.896\n",
      "Epoch: 8, Avg_loss: 41.151293176819735\n",
      "iteration 8200, loss 43.233\n",
      "iteration 8400, loss 41.665\n",
      "iteration 8600, loss 56.574\n",
      "iteration 8800, loss 52.898\n",
      "Epoch: 9, Avg_loss: 40.938928875383844\n",
      "iteration 9000, loss 48.015\n",
      "iteration 9200, loss 43.657\n",
      "iteration 9400, loss 51.618\n",
      "iteration 9600, loss 37.596\n",
      "iteration 9800, loss 42.359\n",
      "Epoch: 10, Avg_loss: 40.81789439416012\n",
      "iteration 10000, loss 34.837\n",
      "iteration 10200, loss 47.765\n",
      "iteration 10400, loss 35.103\n",
      "iteration 10600, loss 38.088\n",
      "Epoch: 11, Avg_loss: 40.59239573761704\n",
      "iteration 10800, loss 46.547\n",
      "iteration 11000, loss 46.428\n",
      "iteration 11200, loss 41.611\n",
      "iteration 11400, loss 37.568\n",
      "iteration 11600, loss 33.832\n",
      "Epoch: 12, Avg_loss: 40.42076888089751\n",
      "iteration 11800, loss 30.383\n",
      "iteration 12000, loss 48.301\n",
      "iteration 12200, loss 38.716\n",
      "iteration 12400, loss 43.995\n",
      "Epoch: 13, Avg_loss: 40.64114587064019\n",
      "iteration 12600, loss 41.123\n",
      "iteration 12800, loss 52.991\n",
      "iteration 13000, loss 39.286\n",
      "iteration 13200, loss 40.968\n",
      "Epoch: 14, Avg_loss: 40.4754386871953\n",
      "iteration 13400, loss 27.253\n",
      "iteration 13600, loss 38.937\n",
      "iteration 13800, loss 43.432\n",
      "iteration 14000, loss 41.844\n",
      "iteration 14200, loss 40.065\n",
      "Epoch: 15, Avg_loss: 40.26789833103022\n",
      "iteration 14400, loss 22.649\n",
      "iteration 14600, loss 47.153\n",
      "iteration 14800, loss 44.426\n",
      "iteration 15000, loss 47.576\n",
      "Epoch: 16, Avg_loss: 40.03588092714248\n",
      "iteration 15200, loss 40.875\n",
      "iteration 15400, loss 33.900\n",
      "iteration 15600, loss 29.651\n",
      "iteration 15800, loss 33.430\n",
      "iteration 16000, loss 50.161\n",
      "Epoch: 17, Avg_loss: 40.10863440835062\n",
      "iteration 16200, loss 22.572\n",
      "iteration 16400, loss 41.480\n",
      "iteration 16600, loss 28.809\n",
      "iteration 16800, loss 47.608\n",
      "Epoch: 18, Avg_loss: 40.0355761165982\n",
      "iteration 17000, loss 47.615\n",
      "iteration 17200, loss 47.224\n",
      "iteration 17400, loss 26.204\n",
      "iteration 17600, loss 35.318\n",
      "iteration 17800, loss 42.598\n",
      "Epoch: 19, Avg_loss: 40.03656463793918\n",
      "iteration 18000, loss 44.026\n",
      "iteration 18200, loss 67.756\n",
      "iteration 18400, loss 39.007\n",
      "iteration 18600, loss 27.025\n",
      "Epoch: 20, Avg_loss: 39.87594098927326\n",
      "iteration 18800, loss 40.372\n",
      "iteration 19000, loss 40.828\n",
      "iteration 19200, loss 38.705\n",
      "iteration 19400, loss 63.254\n",
      "iteration 19600, loss 42.900\n",
      "Epoch: 21, Avg_loss: 39.81569854249346\n",
      "iteration 19800, loss 31.101\n",
      "iteration 20000, loss 35.077\n",
      "iteration 20200, loss 30.965\n",
      "iteration 20400, loss 45.693\n",
      "Epoch: 22, Avg_loss: 39.80323895948865\n",
      "iteration 20600, loss 29.696\n",
      "iteration 20800, loss 43.415\n",
      "iteration 21000, loss 46.804\n",
      "iteration 21200, loss 32.721\n",
      "iteration 21400, loss 38.694\n",
      "Epoch: 23, Avg_loss: 40.031496033022414\n",
      "iteration 21600, loss 47.194\n",
      "iteration 21800, loss 38.403\n",
      "iteration 22000, loss 33.275\n",
      "iteration 22200, loss 40.702\n",
      "Epoch: 24, Avg_loss: 39.692131518783654\n",
      "iteration 22400, loss 30.252\n",
      "iteration 22600, loss 43.218\n",
      "iteration 22800, loss 51.243\n",
      "iteration 23000, loss 26.123\n",
      "iteration 23200, loss 39.642\n",
      "Epoch: 25, Avg_loss: 39.76469056149747\n",
      "iteration 23400, loss 46.449\n",
      "iteration 23600, loss 34.310\n",
      "iteration 23800, loss 41.480\n",
      "iteration 24000, loss 31.016\n",
      "Epoch: 26, Avg_loss: 39.791998842929274\n",
      "iteration 24200, loss 43.065\n",
      "iteration 24400, loss 30.542\n",
      "iteration 24600, loss 42.264\n",
      "iteration 24800, loss 23.982\n",
      "iteration 25000, loss 40.105\n",
      "Epoch: 27, Avg_loss: 39.782453752712065\n",
      "iteration 25200, loss 42.424\n",
      "iteration 25400, loss 39.936\n",
      "iteration 25600, loss 43.948\n",
      "iteration 25800, loss 37.872\n",
      "Epoch: 28, Avg_loss: 39.754495906936626\n",
      "iteration 26000, loss 37.647\n",
      "iteration 26200, loss 40.469\n",
      "iteration 26400, loss 35.593\n",
      "iteration 26600, loss 46.709\n",
      "Epoch: 29, Avg_loss: 39.756606021893916\n"
     ]
    }
   ],
   "source": [
    "# pretraining\n",
    "batch_size = 1\n",
    "num_context = 10\n",
    "num_target = 20\n",
    "\n",
    "training_dataloader = DataLoader(training_dataset, batch_size=batch_size, shuffle=True)\n",
    "testing_dataloader = DataLoader(testing_dataset, batch_size=1)\n",
    "optimizer = torch.optim.Adam(neuralprocess.parameters(), lr=5e-4)\n",
    "np_trainer = NeuralProcessTrainer(device, neuralprocess, optimizer,\n",
    "                                  num_context_range=(num_context, num_context),\n",
    "                                  num_extra_target_range=(num_target, num_target), \n",
    "                                  print_freq=200)\n",
    "\n",
    "neuralprocess.training = True\n",
    "np_trainer.train(training_dataloader, 30)"
   ]
  },
  {
   "cell_type": "code",
   "execution_count": 99,
   "metadata": {},
   "outputs": [
    {
     "name": "stdout",
     "output_type": "stream",
     "text": [
      "iteration 100, loss 47.981\n",
      "iteration 200, loss 30.383\n",
      "iteration 300, loss 47.898\n",
      "iteration 400, loss 43.644\n",
      "iteration 500, loss 85.883\n",
      "iteration 600, loss 72.742\n",
      "no safe initialization possible\n",
      "iteration 700, loss 83.982\n",
      "iteration 800, loss 40.947\n",
      "Epoch: 0, Avg_loss: 56.15898701538564\n",
      "iteration 900, loss 64.330\n",
      "iteration 1000, loss 42.431\n",
      "no safe initialization possible\n",
      "iteration 1100, loss 62.505\n",
      "iteration 1200, loss 60.104\n",
      "iteration 1300, loss 59.788\n",
      "iteration 1400, loss 60.364\n",
      "iteration 1500, loss 57.171\n",
      "iteration 1600, loss 63.390\n",
      "iteration 1700, loss 24.639\n",
      "Epoch: 1, Avg_loss: 56.06179232880356\n",
      "iteration 1800, loss 23.130\n",
      "iteration 1900, loss 38.283\n",
      "no safe initialization possible\n",
      "iteration 2000, loss 46.610\n",
      "iteration 2100, loss 53.675\n",
      "iteration 2200, loss 67.460\n",
      "iteration 2300, loss 40.674\n",
      "iteration 2400, loss 48.447\n",
      "iteration 2500, loss 49.444\n",
      "iteration 2600, loss 51.782\n",
      "Epoch: 2, Avg_loss: 56.15247425707297\n",
      "iteration 2700, loss 58.619\n",
      "iteration 2800, loss 45.821\n",
      "iteration 2900, loss 73.401\n",
      "iteration 3000, loss 45.639\n",
      "iteration 3100, loss 51.411\n",
      "iteration 3200, loss 60.771\n",
      "iteration 3300, loss 66.833\n",
      "iteration 3400, loss 63.372\n",
      "no safe initialization possible\n",
      "iteration 3500, loss 64.900\n",
      "Epoch: 3, Avg_loss: 56.00130024148529\n",
      "no safe initialization possible\n",
      "iteration 3600, loss 20.309\n",
      "iteration 3700, loss 72.071\n",
      "iteration 3800, loss 51.233\n",
      "iteration 3900, loss 23.984\n",
      "iteration 4000, loss 81.210\n",
      "iteration 4100, loss 66.745\n",
      "iteration 4200, loss 56.325\n",
      "iteration 4300, loss 55.121\n",
      "iteration 4400, loss 34.189\n",
      "Epoch: 4, Avg_loss: 56.065649167153765\n",
      "iteration 4500, loss 74.477\n",
      "iteration 4600, loss 31.896\n",
      "iteration 4700, loss 30.026\n",
      "iteration 4800, loss 31.747\n",
      "iteration 4900, loss 34.988\n",
      "iteration 5000, loss 70.596\n",
      "iteration 5100, loss 74.718\n",
      "iteration 5200, loss 70.203\n",
      "no safe initialization possible\n",
      "iteration 5300, loss 78.790\n",
      "Epoch: 5, Avg_loss: 56.0769837198973\n",
      "iteration 5400, loss 77.705\n",
      "iteration 5500, loss 67.407\n",
      "iteration 5600, loss 44.122\n",
      "iteration 5700, loss 27.989\n",
      "iteration 5800, loss 28.560\n",
      "no safe initialization possible\n",
      "iteration 5900, loss 64.609\n",
      "iteration 6000, loss 83.901\n",
      "iteration 6100, loss 62.009\n",
      "iteration 6200, loss 73.056\n",
      "Epoch: 6, Avg_loss: 56.00060544115432\n",
      "no safe initialization possible\n",
      "iteration 6300, loss 33.716\n",
      "iteration 6400, loss 73.055\n",
      "iteration 6500, loss 72.236\n",
      "iteration 6600, loss 60.208\n",
      "iteration 6700, loss 73.476\n",
      "iteration 6800, loss 25.242\n",
      "iteration 6900, loss 58.623\n",
      "iteration 7000, loss 72.173\n",
      "iteration 7100, loss 22.780\n",
      "Epoch: 7, Avg_loss: 55.619422073193384\n",
      "iteration 7200, loss 30.795\n",
      "iteration 7300, loss 38.966\n",
      "iteration 7400, loss 34.421\n",
      "iteration 7500, loss 32.207\n",
      "iteration 7600, loss 61.112\n",
      "iteration 7700, loss 59.913\n",
      "iteration 7800, loss 29.196\n",
      "iteration 7900, loss 59.867\n",
      "no safe initialization possible\n",
      "iteration 8000, loss 24.927\n",
      "Epoch: 8, Avg_loss: 56.05218689972983\n",
      "iteration 8100, loss 78.482\n",
      "no safe initialization possible\n",
      "iteration 8200, loss 35.344\n",
      "iteration 8300, loss 64.206\n",
      "iteration 8400, loss 65.783\n",
      "iteration 8500, loss 28.077\n",
      "iteration 8600, loss 46.299\n",
      "iteration 8700, loss 64.860\n",
      "iteration 8800, loss 71.436\n",
      "iteration 8900, loss 23.857\n",
      "Epoch: 9, Avg_loss: 56.087004009046055\n"
     ]
    }
   ],
   "source": [
    "#refining\n",
    "batch_size = 1\n",
    "\n",
    "training_dataloader = DataLoader(training_dataset, batch_size=batch_size, shuffle=True)\n",
    "optimizer = torch.optim.Adam(neuralprocess.parameters(), lr=5e-5)\n",
    "np_trainer = MovieNPTrainer(device, neuralprocess, optimizer)\n",
    "\n",
    "neuralprocess.training = True\n",
    "np_trainer.train(training_dataloader, 10)"
   ]
  },
  {
   "cell_type": "code",
   "execution_count": 37,
   "metadata": {},
   "outputs": [],
   "source": [
    "def context_rest_split(x, y, num_context):\n",
    "    num_points = x.shape[1]\n",
    "\n",
    "    # Sample locations of context and target points\n",
    "    indices = [i for i in range(num_points)]\n",
    "    locations = sorted(random.sample(indices,num_context))\n",
    "    rest_locations = sorted([i for i in indices if i not in locations])\n",
    "\n",
    "    x_context = x[:, locations, :]\n",
    "    y_context = y[:, locations, :]\n",
    "    x_rest = x[:, rest_locations, :]\n",
    "    y_rest = y[:, rest_locations, :]\n",
    "\n",
    "    return x_context, y_context, locations, x_rest, y_rest, rest_locations"
   ]
  },
  {
   "cell_type": "code",
   "execution_count": 38,
   "metadata": {},
   "outputs": [
    {
     "data": {
      "text/plain": [
       "torch.Size([22, 23])"
      ]
     },
     "execution_count": 38,
     "metadata": {},
     "output_type": "execute_result"
    }
   ],
   "source": [
    "x, y = testing_dataset[3]\n",
    "x_context, y_context, locations, x_rest, y_rest, rest_locations = context_rest_split(x.unsqueeze(0), y.unsqueeze(0), 5)\n",
    "x.shape"
   ]
  },
  {
   "cell_type": "code",
   "execution_count": 39,
   "metadata": {},
   "outputs": [],
   "source": [
    "neuralprocess.training = False\n",
    "for i in range(64):\n",
    "    p_y_pred = neuralprocess(x_context, y_context, x_rest)\n",
    "    # Extract mean of distribution\n",
    "    mu = p_y_pred.loc.detach()\n",
    "    sigma = p_y_pred.scale.detach()\n",
    "    break"
   ]
  },
  {
   "cell_type": "code",
   "execution_count": 40,
   "metadata": {},
   "outputs": [
    {
     "data": {
      "image/png": "[encoded data removed]",
      "text/plain": [
       "<Figure size 1440x360 with 1 Axes>"
      ]
     },
     "metadata": {
      "needs_background": "light"
     },
     "output_type": "display_data"
    }
   ],
   "source": [
    "plt.rcParams['figure.figsize'] = 20, 5\n",
    "\n",
    "mu = mu.numpy().squeeze()\n",
    "sigma = sigma.numpy().squeeze()\n",
    "plt.plot(locations, y_context.numpy().squeeze(), 'r+')\n",
    "plt.plot(rest_locations, mu, 'bo')\n",
    "plt.plot(rest_locations, y_rest.numpy().squeeze(), 'go')\n",
    "for i, idx in enumerate(rest_locations):\n",
    "    plt.vlines(idx, ymin=mu[i] - sigma[i], ymax=mu[i] + sigma[i], alpha=0.5)"
   ]
  },
  {
   "cell_type": "code",
   "execution_count": 210,
   "metadata": {},
   "outputs": [
    {
     "data": {
      "text/plain": [
       "[<matplotlib.lines.Line2D at 0x7fb011b5d3d0>]"
      ]
     },
     "execution_count": 210,
     "metadata": {},
     "output_type": "execute_result"
    },
    {
     "data": {
      "image/png": "[encoded data removed]",
      "text/plain": [
       "<Figure size 1440x360 with 1 Axes>"
      ]
     },
     "metadata": {
      "needs_background": "light"
     },
     "output_type": "display_data"
    }
   ],
   "source": [
    "plt.plot(rest_locations, sigma, 'go')"
   ]
  },
  {
   "cell_type": "code",
   "execution_count": 197,
   "metadata": {},
   "outputs": [
    {
     "data": {
      "text/plain": [
       "[0, 3, 4, 5, 7, 8, 9, 10, 13, 16, 17, 20, 21, 23]"
      ]
     },
     "execution_count": 197,
     "metadata": {},
     "output_type": "execute_result"
    }
   ],
   "source": [
    "rest_locations"
   ]
  },
  {
   "cell_type": "code",
   "execution_count": 41,
   "metadata": {},
   "outputs": [],
   "source": [
    "def safeopt_np(np_model, moive_user_features, ratings, beta=2, threshold=3.0, num_init_samples=5):\n",
    "    '''\n",
    "    np_model: a trained neural process model\n",
    "    movie_user_features: a user and its movies concatenated together (20+3) x num_movies\n",
    "    beta: a constant used for computing Q set\n",
    "    threshold: safety threshold\n",
    "    num_init_samples: initial context points\n",
    "    '''\n",
    "    # get initial context points\n",
    "    x_context, y_context, locations, x_rest, y_rest, rest_locations = context_rest_split(moive_user_features, ratings, num_context)\n",
    "    with torch.no_grad():\n",
    "        p_y_pred = neuralprocess(x_context, y_context, x_rest)\n",
    "        mu = mu.numpy().squeeze()\n",
    "        sigma = sigma.numpy().squeeze()\n",
    "        \n",
    "        # compute Qt\n",
    "        Q_t = np.zeros(2, mu.shape[0])\n",
    "        Q_t[0, :] = mu - beta * sigma\n",
    "        Q_t[1, :] = mu + beta * sigma\n",
    "        \n",
    "        l, u = Q_t[0], Q_t[1]\n",
    "        w = u - l\n",
    "        \n",
    "        # compute St\n",
    "        S_t = l > threshold\n",
    "        \n",
    "        M_t = np.empty(S_t.shape[0])\n",
    "        M_t[:] = False\n",
    "        M_t[S_t] = u[S_t] >= np.max(l[S_t])\n",
    "        \n",
    "        "
   ]
  }
 ],
 "metadata": {
  "kernelspec": {
   "display_name": "Python 3",
   "language": "python",
   "name": "python3"
  },
  "language_info": {
   "codemirror_mode": {
    "name": "ipython",
    "version": 3
   },
   "file_extension": ".py",
   "mimetype": "text/x-python",
   "name": "python",
   "nbconvert_exporter": "python",
   "pygments_lexer": "ipython3",
   "version": "3.8.5"
  }
 },
 "nbformat": 4,
 "nbformat_minor": 4
}
