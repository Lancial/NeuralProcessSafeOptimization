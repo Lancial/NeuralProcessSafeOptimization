{
 "cells": [
  {
   "cell_type": "code",
   "execution_count": 1,
   "metadata": {},
   "outputs": [],
   "source": [
    "%load_ext autoreload\n",
    "%autoreload 2\n",
    "import numpy as np\n",
    "import matplotlib.pyplot as plt\n",
    "import torch\n",
    "%matplotlib inline\n",
    "from neural_process import NeuralProcess\n",
    "\n",
    "from load_data import *\n",
    "from utils import *\n",
    "from vae import *\n",
    "from torch.utils.data import Dataset, DataLoader\n",
    "import numpy as np\n",
    "import random\n",
    "from training import NeuralProcessTrainer\n",
    "\n",
    "device = torch.device(\"cuda\" if torch.cuda.is_available() else \"cpu\")"
   ]
  },
  {
   "cell_type": "code",
   "execution_count": 3,
   "metadata": {},
   "outputs": [],
   "source": [
    "movie_features = load__movies_info()\n",
    "user_features = load_users_info()\n",
    "user_movie_ratings = load_user_movie_rating()\n",
    "avg_score = user_movie_ratings.groupby(\"movie id\").mean()['rating'].sort_values(ascending=False)\n",
    "movie_features=pd.merge(movie_features,avg_score,on=\"movie id\")"
   ]
  },
  {
   "cell_type": "code",
   "execution_count": 4,
   "metadata": {},
   "outputs": [],
   "source": [
    "movies = postprocess_movie(movie_features)\n",
    "users  = postprocess_user(user_features)"
   ]
  },
  {
   "cell_type": "code",
   "execution_count": 5,
   "metadata": {},
   "outputs": [],
   "source": [
    "U_Mat = utility_matrix(user_movie_ratings)"
   ]
  },
  {
   "cell_type": "code",
   "execution_count": 6,
   "metadata": {},
   "outputs": [],
   "source": [
    "class UserMovieDataset(Dataset):\n",
    "    def __init__(self, U_matrix, users, movies):\n",
    "        self.U_matrix = np.nan_to_num(U_matrix.to_numpy())\n",
    "        self.users = users\n",
    "        self.movies = movies\n",
    "        \n",
    "    def __len__(self):\n",
    "        return self.U_matrix.shape[0]\n",
    "    \n",
    "    def __getitem__(self, idx):\n",
    "        \n",
    "        user_ratings = self.U_matrix[idx]\n",
    "        user_ratings_valid_idx = np.nonzero(user_ratings)\n",
    "        rated_movies = movies[user_ratings_valid_idx] # n x 20\n",
    "        \n",
    "        user = self.users[idx]\n",
    "        user = np.repeat(user[np.newaxis,...], rated_movies.shape[0], axis=0) # n x 3\n",
    "        \n",
    "        features = np.concatenate([rated_movies, user], axis=1)\n",
    "        ratings = user_ratings[user_ratings_valid_idx].reshape(-1, 1)\n",
    "        \n",
    "        return torch.from_numpy(features).float(), torch.from_numpy(ratings).float()\n",
    "        "
   ]
  },
  {
   "cell_type": "code",
   "execution_count": 7,
   "metadata": {},
   "outputs": [],
   "source": [
    "dataset = UserMovieDataset(U_Mat, users, movies)"
   ]
  },
  {
   "cell_type": "code",
   "execution_count": 8,
   "metadata": {},
   "outputs": [
    {
     "name": "stdout",
     "output_type": "stream",
     "text": [
      "iteration 200, loss 50.676\n",
      "iteration 400, loss 54.694\n",
      "iteration 600, loss 47.954\n",
      "iteration 800, loss 44.061\n",
      "Epoch: 0, Avg_loss: 50.55698064276169\n",
      "iteration 1000, loss 52.217\n",
      "iteration 1200, loss 36.487\n",
      "iteration 1400, loss 42.217\n",
      "iteration 1600, loss 47.783\n",
      "iteration 1800, loss 42.232\n",
      "Epoch: 1, Avg_loss: 43.15791834753366\n",
      "iteration 2000, loss 46.657\n",
      "iteration 2200, loss 50.778\n",
      "iteration 2400, loss 40.706\n",
      "iteration 2600, loss 40.674\n",
      "iteration 2800, loss 66.563\n",
      "Epoch: 2, Avg_loss: 42.33900927789391\n",
      "iteration 3000, loss 50.709\n",
      "iteration 3200, loss 59.119\n",
      "iteration 3400, loss 42.431\n",
      "iteration 3600, loss 28.224\n",
      "Epoch: 3, Avg_loss: 42.079159314913056\n",
      "iteration 3800, loss 37.850\n",
      "iteration 4000, loss 47.830\n",
      "iteration 4200, loss 53.547\n",
      "iteration 4400, loss 48.460\n",
      "iteration 4600, loss 37.330\n",
      "Epoch: 4, Avg_loss: 41.76351194695223\n",
      "iteration 4800, loss 39.668\n",
      "iteration 5000, loss 28.875\n",
      "iteration 5200, loss 58.115\n",
      "iteration 5400, loss 43.976\n",
      "iteration 5600, loss 67.835\n",
      "Epoch: 5, Avg_loss: 41.67331586131868\n",
      "iteration 5800, loss 27.405\n",
      "iteration 6000, loss 31.815\n",
      "iteration 6200, loss 27.850\n",
      "iteration 6400, loss 35.827\n",
      "iteration 6600, loss 33.561\n",
      "Epoch: 6, Avg_loss: 41.495176187881356\n",
      "iteration 6800, loss 40.153\n",
      "iteration 7000, loss 41.499\n",
      "iteration 7200, loss 41.499\n",
      "iteration 7400, loss 39.999\n",
      "Epoch: 7, Avg_loss: 41.13673582107366\n",
      "iteration 7600, loss 50.834\n",
      "iteration 7800, loss 40.717\n",
      "iteration 8000, loss 48.150\n",
      "iteration 8200, loss 32.864\n",
      "iteration 8400, loss 53.848\n",
      "Epoch: 8, Avg_loss: 40.87369829220332\n",
      "iteration 8600, loss 29.852\n",
      "iteration 8800, loss 40.660\n",
      "iteration 9000, loss 34.340\n",
      "iteration 9200, loss 33.810\n",
      "iteration 9400, loss 31.095\n",
      "Epoch: 9, Avg_loss: 40.85634399850952\n",
      "iteration 9600, loss 35.626\n",
      "iteration 9800, loss 50.097\n",
      "iteration 10000, loss 39.151\n",
      "iteration 10200, loss 46.833\n",
      "Epoch: 10, Avg_loss: 40.57351729877428\n",
      "iteration 10400, loss 32.848\n",
      "iteration 10600, loss 38.958\n",
      "iteration 10800, loss 38.259\n",
      "iteration 11000, loss 32.527\n",
      "iteration 11200, loss 37.951\n",
      "Epoch: 11, Avg_loss: 40.440048828610436\n",
      "iteration 11400, loss 35.617\n",
      "iteration 11600, loss 46.708\n",
      "iteration 11800, loss 35.082\n",
      "iteration 12000, loss 33.043\n",
      "iteration 12200, loss 44.648\n",
      "Epoch: 12, Avg_loss: 40.545802643291516\n",
      "iteration 12400, loss 37.113\n",
      "iteration 12600, loss 50.280\n",
      "iteration 12800, loss 39.279\n",
      "iteration 13000, loss 53.096\n",
      "iteration 13200, loss 37.955\n",
      "Epoch: 13, Avg_loss: 40.84939002181667\n",
      "iteration 13400, loss 33.165\n",
      "iteration 13600, loss 47.063\n",
      "iteration 13800, loss 31.054\n",
      "iteration 14000, loss 38.627\n",
      "Epoch: 14, Avg_loss: 40.33422004278998\n",
      "iteration 14200, loss 26.562\n",
      "iteration 14400, loss 43.154\n",
      "iteration 14600, loss 36.157\n",
      "iteration 14800, loss 47.969\n",
      "iteration 15000, loss 42.314\n",
      "Epoch: 15, Avg_loss: 40.31216980215095\n",
      "iteration 15200, loss 37.721\n",
      "iteration 15400, loss 44.817\n",
      "iteration 15600, loss 47.383\n",
      "iteration 15800, loss 34.109\n",
      "iteration 16000, loss 50.946\n",
      "Epoch: 16, Avg_loss: 40.21215234353964\n",
      "iteration 16200, loss 28.364\n",
      "iteration 16400, loss 32.392\n",
      "iteration 16600, loss 44.249\n",
      "iteration 16800, loss 44.968\n",
      "Epoch: 17, Avg_loss: 40.328675730230955\n",
      "iteration 17000, loss 40.160\n",
      "iteration 17200, loss 50.172\n",
      "iteration 17400, loss 30.529\n",
      "iteration 17600, loss 32.383\n",
      "iteration 17800, loss 38.930\n",
      "Epoch: 18, Avg_loss: 40.114508314324844\n",
      "iteration 18000, loss 30.740\n",
      "iteration 18200, loss 38.061\n",
      "iteration 18400, loss 42.090\n",
      "iteration 18600, loss 44.541\n",
      "iteration 18800, loss 43.326\n",
      "Epoch: 19, Avg_loss: 40.213908303706795\n",
      "iteration 19000, loss 33.135\n",
      "iteration 19200, loss 36.306\n",
      "iteration 19400, loss 35.477\n",
      "iteration 19600, loss 39.316\n",
      "iteration 19800, loss 51.909\n",
      "Epoch: 20, Avg_loss: 40.16109996686432\n",
      "iteration 20000, loss 37.997\n",
      "iteration 20200, loss 37.154\n",
      "iteration 20400, loss 39.097\n",
      "iteration 20600, loss 40.505\n",
      "Epoch: 21, Avg_loss: 40.058942448928526\n",
      "iteration 20800, loss 36.794\n",
      "iteration 21000, loss 41.882\n",
      "iteration 21200, loss 33.804\n",
      "iteration 21400, loss 36.195\n",
      "iteration 21600, loss 33.570\n",
      "Epoch: 22, Avg_loss: 40.05264593915241\n",
      "iteration 21800, loss 35.255\n",
      "iteration 22000, loss 37.345\n",
      "iteration 22200, loss 39.633\n",
      "iteration 22400, loss 25.444\n",
      "iteration 22600, loss 36.011\n",
      "Epoch: 23, Avg_loss: 40.285712643620315\n",
      "iteration 22800, loss 42.923\n",
      "iteration 23000, loss 34.009\n",
      "iteration 23200, loss 38.148\n",
      "iteration 23400, loss 39.870\n",
      "Epoch: 24, Avg_loss: 39.965720655050916\n",
      "iteration 23600, loss 40.996\n",
      "iteration 23800, loss 51.196\n",
      "iteration 24000, loss 44.844\n",
      "iteration 24200, loss 34.300\n",
      "iteration 24400, loss 41.224\n",
      "Epoch: 25, Avg_loss: 40.06377528606265\n",
      "iteration 24600, loss 43.128\n",
      "iteration 24800, loss 52.923\n",
      "iteration 25000, loss 26.897\n",
      "iteration 25200, loss 42.876\n",
      "iteration 25400, loss 30.145\n",
      "Epoch: 26, Avg_loss: 39.98287781627408\n",
      "iteration 25600, loss 41.992\n",
      "iteration 25800, loss 46.975\n",
      "iteration 26000, loss 48.385\n",
      "iteration 26200, loss 33.407\n",
      "iteration 26400, loss 51.204\n",
      "Epoch: 27, Avg_loss: 39.85545762750781\n",
      "iteration 26600, loss 44.705\n",
      "iteration 26800, loss 48.522\n",
      "iteration 27000, loss 35.884\n",
      "iteration 27200, loss 33.654\n",
      "Epoch: 28, Avg_loss: 39.97753962074838\n",
      "iteration 27400, loss 32.029\n",
      "iteration 27600, loss 35.132\n",
      "iteration 27800, loss 37.884\n",
      "iteration 28000, loss 40.999\n",
      "iteration 28200, loss 43.102\n",
      "Epoch: 29, Avg_loss: 39.81011462287458\n"
     ]
    }
   ],
   "source": [
    "x_dim = 23\n",
    "y_dim = 1\n",
    "r_dim = 100  # Dimension of representation of context points\n",
    "z_dim = 100  # Dimension of sampled latent variable\n",
    "h_dim = 100  # Dimension of hidden layers in encoder and decoder\n",
    "\n",
    "neuralprocess = NeuralProcess(x_dim, y_dim, r_dim, z_dim, h_dim)\n",
    "\n",
    "batch_size = 1\n",
    "num_context = 10\n",
    "num_target = 20\n",
    "\n",
    "data_loader = DataLoader(dataset, batch_size=batch_size, shuffle=True)\n",
    "optimizer = torch.optim.Adam(neuralprocess.parameters(), lr=5e-4)\n",
    "np_trainer = NeuralProcessTrainer(device, neuralprocess, optimizer,\n",
    "                                  num_context_range=(num_context, num_context),\n",
    "                                  num_extra_target_range=(num_target, num_target), \n",
    "                                  print_freq=200)\n",
    "\n",
    "neuralprocess.training = True\n",
    "np_trainer.train(data_loader, 30)"
   ]
  },
  {
   "cell_type": "code",
   "execution_count": 9,
   "metadata": {},
   "outputs": [],
   "source": [
    "def context_rest_split(x, y, num_context):\n",
    "    num_points = x.shape[1]\n",
    "\n",
    "    # Sample locations of context and target points\n",
    "    indices = [i for i in range(num_points)]\n",
    "    locations = sorted(random.sample(indices,num_context))\n",
    "    rest_locations = sorted([i for i in indices if i not in locations])\n",
    "\n",
    "    x_context = x[:, locations, :]\n",
    "    y_context = y[:, locations, :]\n",
    "    x_rest = x[:, rest_locations, :]\n",
    "    y_rest = y[:, rest_locations, :]\n",
    "\n",
    "    return x_context, y_context, locations, x_rest, y_rest, rest_locations"
   ]
  },
  {
   "cell_type": "code",
   "execution_count": 51,
   "metadata": {},
   "outputs": [
    {
     "data": {
      "text/plain": [
       "torch.Size([59, 23])"
      ]
     },
     "execution_count": 51,
     "metadata": {},
     "output_type": "execute_result"
    }
   ],
   "source": [
    "x, y = dataset[7]\n",
    "x_context, y_context, locations, x_rest, y_rest, rest_locations = context_rest_split(x.unsqueeze(0), y.unsqueeze(0), 5)\n",
    "x.shape"
   ]
  },
  {
   "cell_type": "code",
   "execution_count": 52,
   "metadata": {},
   "outputs": [],
   "source": [
    "neuralprocess.training = False\n",
    "for i in range(64):\n",
    "    p_y_pred = neuralprocess(x_context, y_context, x_rest)\n",
    "    # Extract mean of distribution\n",
    "    mu = p_y_pred.loc.detach()\n",
    "    sigma = p_y_pred.scale.detach()\n",
    "    break"
   ]
  },
  {
   "cell_type": "code",
   "execution_count": 53,
   "metadata": {},
   "outputs": [
    {
     "data": {
      "image/png": "[encoded data removed]",
      "text/plain": [
       "<Figure size 1440x360 with 1 Axes>"
      ]
     },
     "metadata": {
      "needs_background": "light"
     },
     "output_type": "display_data"
    }
   ],
   "source": [
    "plt.rcParams['figure.figsize'] = 20, 5\n",
    "\n",
    "mu = mu.numpy().squeeze()\n",
    "sigma = sigma.numpy().squeeze()\n",
    "plt.plot(locations, y_context.numpy().squeeze(), 'r+')\n",
    "plt.plot(rest_locations, mu, 'bo')\n",
    "plt.plot(rest_locations, y_rest.numpy().squeeze(), 'go')\n",
    "for i, idx in enumerate(rest_locations):\n",
    "    plt.vlines(idx, ymin=mu[i] - sigma[i], ymax=mu[i] + sigma[i], alpha=0.5)"
   ]
  },
  {
   "cell_type": "code",
   "execution_count": 210,
   "metadata": {},
   "outputs": [
    {
     "data": {
      "text/plain": [
       "[<matplotlib.lines.Line2D at 0x7fb011b5d3d0>]"
      ]
     },
     "execution_count": 210,
     "metadata": {},
     "output_type": "execute_result"
    },
    {
     "data": {
      "image/png": "[encoded data removed]",
      "text/plain": [
       "<Figure size 1440x360 with 1 Axes>"
      ]
     },
     "metadata": {
      "needs_background": "light"
     },
     "output_type": "display_data"
    }
   ],
   "source": [
    "plt.plot(rest_locations, sigma, 'go')"
   ]
  },
  {
   "cell_type": "code",
   "execution_count": 197,
   "metadata": {},
   "outputs": [
    {
     "data": {
      "text/plain": [
       "[0, 3, 4, 5, 7, 8, 9, 10, 13, 16, 17, 20, 21, 23]"
      ]
     },
     "execution_count": 197,
     "metadata": {},
     "output_type": "execute_result"
    }
   ],
   "source": [
    "rest_locations"
   ]
  },
  {
   "cell_type": "code",
   "execution_count": null,
   "metadata": {},
   "outputs": [],
   "source": []
  }
 ],
 "metadata": {
  "kernelspec": {
   "display_name": "Python 3",
   "language": "python",
   "name": "python3"
  },
  "language_info": {
   "codemirror_mode": {
    "name": "ipython",
    "version": 3
   },
   "file_extension": ".py",
   "mimetype": "text/x-python",
   "name": "python",
   "nbconvert_exporter": "python",
   "pygments_lexer": "ipython3",
   "version": "3.8.5"
  }
 },
 "nbformat": 4,
 "nbformat_minor": 4
}
